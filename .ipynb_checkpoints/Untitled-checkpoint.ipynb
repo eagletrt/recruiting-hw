{
 "cells": [
  {
   "cell_type": "code",
   "execution_count": 10,
   "id": "784a4761",
   "metadata": {},
   "outputs": [],
   "source": [
    "import matplotlib.pyplot as plt\n",
    "import numpy as np\n",
    "\n",
    "# questo file contiene informazioni riguardo il calcolo della Rds del JFET per la regolazione del guadagno dell'operazionale\n",
    "# della parte del circuito che si occupa di determinare la soglia in corrente oltre la quale il led lampeggia\n",
    "\n",
    "#dati presenti nel datasheet del JFET\n",
    "\n",
    "Vgs_off = 4\n",
    "Rds_on_min = 4000\n",
    "Rds_on_max = 8000\n",
    "\n",
    "#dati in ingresso [potenza massima, tensione in ingresso (all'operazionale e al circuito), resistenza di feedback, tensione in uscita]\n",
    "P_max = 10\n",
    "Vop = 10\n",
    "Vin_min = 11\n",
    "Vin_max = 27\n",
    "Rf = 1000"
   ]
  },
  {
   "cell_type": "code",
   "execution_count": 11,
   "id": "48bb01fa",
   "metadata": {},
   "outputs": [],
   "source": [
    "# calcoli sapendo che\n",
    "Vin = np.arange(Vin_min,Vin_max,0.01)\n",
    "Vgs = np.arange(Vin_min/10,Vin_max/10,0.001)\n",
    "index_max = np.where(Vgs == Vin_min/10)\n",
    "index_min = np.where(Vgs == Vin_max/10)\n",
    "\n",
    "Vout_min = 10/Vin_max\n",
    "Vout_max = 10/Vin_min\n",
    "Vout = 10/Vin\n",
    "\n",
    "#come Rds(on) si prende la media tra il valore minimo e massimo per tenere l'errore al minimo\n",
    "Rds_on = (Rds_on_min + Rds_on_max)/2\n",
    "\n",
    "#calcolo di Rds\n",
    "Rds = Rds_on/(1 - Vgs/Vgs_off)\n",
    "Rds_max = Rds_on/(1 - float(Vgs[index_max])/Vgs_off)\n",
    "Rds_min = Rds_on/(1 - float(Vgs[0])/Vgs_off)\n",
    "\n",
    "#calcolo di Rf (formula inversa del guadagno dell'operazionale non invertente)\n",
    "G = "
   ]
  },
  {
   "cell_type": "code",
   "execution_count": 12,
   "id": "ac2ce4b2",
   "metadata": {},
   "outputs": [
    {
     "name": "stdout",
     "output_type": "stream",
     "text": [
      "[ 82758.62068966  82869.95515695  82981.36645963 ... 478342.28702986\n",
      " 478894.00921652 479446.57955412]\n"
     ]
    }
   ],
   "source": [
    "print(str(Rf))"
   ]
  },
  {
   "cell_type": "code",
   "execution_count": null,
   "id": "42d6a00f",
   "metadata": {},
   "outputs": [],
   "source": []
  }
 ],
 "metadata": {
  "kernelspec": {
   "display_name": "Python 3 (ipykernel)",
   "language": "python",
   "name": "python3"
  },
  "language_info": {
   "codemirror_mode": {
    "name": "ipython",
    "version": 3
   },
   "file_extension": ".py",
   "mimetype": "text/x-python",
   "name": "python",
   "nbconvert_exporter": "python",
   "pygments_lexer": "ipython3",
   "version": "3.9.7"
  }
 },
 "nbformat": 4,
 "nbformat_minor": 5
}
