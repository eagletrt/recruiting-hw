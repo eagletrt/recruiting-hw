{
 "cells": [
  {
   "cell_type": "code",
   "execution_count": 25,
   "id": "a344cc25",
   "metadata": {},
   "outputs": [],
   "source": [
    "#I calcoli sono stati presi dal datasheet del LTC6102\n",
    "import matplotlib.pyplot as plt\n",
    "import numpy as np\n",
    "\n",
    "#--------------------------dati in ingresso------------------------\n",
    "\n",
    "# Tensione in ingresso [V]\n",
    "Vin_max = 27\n",
    "Vin_min = 11\n",
    "\n",
    "#Rin e Rout [Ω] per regolare il guadagno\n",
    "Rin = 10\n",
    "Rout = 10000\n",
    "\n",
    "# Potenza massima [W]\n",
    "P_max = 10\n",
    "\n",
    "# Resistenza di shunt [mΩ]\n",
    "Rsh = 1\n"
   ]
  },
  {
   "cell_type": "code",
   "execution_count": 26,
   "id": "e5cf4543",
   "metadata": {},
   "outputs": [],
   "source": [
    "#-------------------------Calcoli-----------------------------------\n",
    "# Guadagno\n",
    "G = Rout/Rin\n",
    "\n",
    "# Corrente massima\n",
    "I_max = P_max/Vin_min \n",
    "\n",
    "# Corrente massima in uscita\n",
    "Iout = Rsh*I_max/Rin\n",
    "\n",
    "# Tensione massima sullo shunt e tensione massima in uscita\n",
    "Vsh = Rsh * I_max * 1E-3\n",
    "Vout = Vsh*G\n",
    "\n",
    "# Potenza massima dissipata dallo shunt\n",
    "Psh_max = Rsh * I_max**2 *1E-3\n"
   ]
  },
  {
   "cell_type": "code",
   "execution_count": 27,
   "id": "b0e73efe",
   "metadata": {},
   "outputs": [
    {
     "name": "stdout",
     "output_type": "stream",
     "text": [
      "G = 1000.0\n",
      "Rsh = 1 mΩ\n",
      "Iout = 0.09090909090909091 A\n",
      "\n",
      "Tensione sullo shunt e potenza massima dissipata:\n",
      "Vsh = 0.9090909090909091 mV\n",
      "Vout = 0.9090909090909091 V\n",
      "Psh = 0.8264462809917356mW\n"
     ]
    },
    {
     "data": {
      "image/png": "[encoded data removed]",
      "text/plain": [
       "<Figure size 432x288 with 1 Axes>"
      ]
     },
     "metadata": {
      "needs_background": "light"
     },
     "output_type": "display_data"
    }
   ],
   "source": [
    "G_plot = np.arange(100,5E3,10)\n",
    "Vsh_plot = Vout/G_plot\n",
    "Rsh_plot = Vsh_plot*I_max\n",
    "\n",
    "plt.plot(G_plot, Vsh_plot*1E3)\n",
    "plt.ylabel(\"Vsh [mV]\")\n",
    "plt.xlabel(\"Gain\")\n",
    "\n",
    "print(\"G = \" + str(G))\n",
    "print(\"Rsh = \" + str(Rsh) + \" mΩ\")\n",
    "print(\"Iout = \" + str(Iout) + \" A\\n\")\n",
    "print(\"Tensione sullo shunt e potenza massima dissipata:\")\n",
    "print(\"Vsh = \" + str(Vsh*1E3) + \" mV\")\n",
    "print(\"Vout = \" + str(Vout) + \" V\")\n",
    "print(\"Psh = \" + str(Psh_max*1E3) + \"mW\")"
   ]
  },
  {
   "cell_type": "code",
   "execution_count": null,
   "id": "e4a61593",
   "metadata": {},
   "outputs": [],
   "source": []
  }
 ],
 "metadata": {
  "kernelspec": {
   "display_name": "Python 3 (ipykernel)",
   "language": "python",
   "name": "python3"
  },
  "language_info": {
   "codemirror_mode": {
    "name": "ipython",
    "version": 3
   },
   "file_extension": ".py",
   "mimetype": "text/x-python",
   "name": "python",
   "nbconvert_exporter": "python",
   "pygments_lexer": "ipython3",
   "version": "3.9.7"
  }
 },
 "nbformat": 4,
 "nbformat_minor": 5
}
